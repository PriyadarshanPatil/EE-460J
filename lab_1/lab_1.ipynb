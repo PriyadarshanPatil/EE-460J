{
  "nbformat": 4,
  "nbformat_minor": 0,
  "metadata": {
    "kernelspec": {
      "display_name": "Python 3",
      "language": "python",
      "name": "python3"
    },
    "language_info": {
      "codemirror_mode": {
        "name": "ipython",
        "version": 3
      },
      "file_extension": ".py",
      "mimetype": "text/x-python",
      "name": "python",
      "nbconvert_exporter": "python",
      "pygments_lexer": "ipython3",
      "version": "3.7.3"
    },
    "colab": {
      "name": "lab_1.ipynb",
      "provenance": []
    }
  },
  "cells": [
    {
      "cell_type": "markdown",
      "metadata": {
        "id": "04WVDXBKOy-b",
        "colab_type": "text"
      },
      "source": [
        "<table align=\"left\">\n",
        "  <td>\n",
        "    <a target=\"_blank\" href=\"https://colab.research.google.com/github/cangokalp/EE-460J/blob/master/lab_1/lab_1.ipynb#scrollTo=04WVDXBKOy-b\"><img src=\"https://www.tensorflow.org/images/colab_logo_32px.png\" />Run in Google Colab</a>\n",
        "  </td>\n",
        "</table>"
      ]
    },
    {
      "cell_type": "code",
      "metadata": {
        "id": "V0KqX7S2Ox0d",
        "colab_type": "code",
        "colab": {}
      },
      "source": [
        "import pandas as pd\n",
        "import numpy as np\n",
        "%matplotlib inline\n",
        "import matplotlib.pyplot as plt\n",
        "import warnings\n",
        "warnings.filterwarnings(\"ignore\")\n",
        "import seaborn as sns\n",
        "\n",
        "sns.set(style=\"white\", color_codes=True)\n",
        "plt.rc('axes', labelsize=14)\n",
        "plt.rc('xtick', labelsize=12)\n",
        "plt.rc('ytick', labelsize=12)"
      ],
      "execution_count": null,
      "outputs": []
    },
    {
      "cell_type": "markdown",
      "metadata": {
        "id": "8xL9-8UWOx0k",
        "colab_type": "text"
      },
      "source": [
        "# Programming Questions"
      ]
    },
    {
      "cell_type": "markdown",
      "metadata": {
        "id": "Ky-Ss_IdOx0m",
        "colab_type": "text"
      },
      "source": [
        "## Problem 1"
      ]
    },
    {
      "cell_type": "code",
      "metadata": {
        "id": "qW_CPbTOOx0n",
        "colab_type": "code",
        "colab": {}
      },
      "source": [
        "g1 = np.random.normal(-10,5,1000)\n",
        "g2 = np.random.normal(10,5,1000)"
      ],
      "execution_count": null,
      "outputs": []
    },
    {
      "cell_type": "markdown",
      "metadata": {
        "id": "qhFhqhHcOx0r",
        "colab_type": "text"
      },
      "source": [
        "> a)"
      ]
    },
    {
      "cell_type": "code",
      "metadata": {
        "id": "Ab2qtY_HOx0s",
        "colab_type": "code",
        "colab": {},
        "outputId": "109420f9-d298-453b-b005-7babe231f67d"
      },
      "source": [
        "sum_g = g1 + g2\n",
        "plt.hist(sum_g, bins='auto');\n",
        "plt.grid(axis='y', alpha=0.75)\n",
        "plt.xlabel('Value')\n",
        "plt.ylabel('Frequency')\n",
        "plt.title('Histogram of sum of the two Gaussians')"
      ],
      "execution_count": null,
      "outputs": [
        {
          "output_type": "execute_result",
          "data": {
            "text/plain": [
              "Text(0.5, 1.0, 'Histogram of sum of the two Gaussians')"
            ]
          },
          "metadata": {
            "tags": []
          },
          "execution_count": 209
        },
        {
          "output_type": "display_data",
          "data": {
            "image/png": "[encoded data removed]",
            "text/plain": [
              "<Figure size 432x288 with 1 Axes>"
            ]
          },
          "metadata": {
            "tags": [],
            "needs_background": "light"
          }
        }
      ]
    },
    {
      "cell_type": "markdown",
      "metadata": {
        "id": "N3-OeFhdOx0w",
        "colab_type": "text"
      },
      "source": [
        "the new mean is around zero"
      ]
    },
    {
      "cell_type": "markdown",
      "metadata": {
        "id": "qDosBckHOx0w",
        "colab_type": "text"
      },
      "source": [
        "> b)"
      ]
    },
    {
      "cell_type": "code",
      "metadata": {
        "id": "yw1IL7fvOx0x",
        "colab_type": "code",
        "colab": {},
        "outputId": "7ba32a57-c627-463b-97d1-f58bdc97130e"
      },
      "source": [
        "est_mean = np.mean(sum_g)\n",
        "est_variance = np.var(sum_g)\n",
        "print('mean: {}, variance: {}'.format(est_mean, est_variance))"
      ],
      "execution_count": null,
      "outputs": [
        {
          "output_type": "stream",
          "text": [
            "mean: -0.05377603039763575, variance: 56.158964813801795\n"
          ],
          "name": "stdout"
        }
      ]
    },
    {
      "cell_type": "markdown",
      "metadata": {
        "id": "NApTaccTOx00",
        "colab_type": "text"
      },
      "source": [
        "## Problem 2"
      ]
    },
    {
      "cell_type": "code",
      "metadata": {
        "id": "v4vpm69kOx00",
        "colab_type": "code",
        "colab": {},
        "outputId": "4da0ee3b-fb42-4df2-f44e-97d3f0963b7f"
      },
      "source": [
        "def drawZ(n, num_draws=1000):\n",
        "    z = []\n",
        "    for i in range(num_draws):\n",
        "        x = np.random.binomial(1,0.5,size=n)\n",
        "        x[x==0] = -1\n",
        "        z.append(1/np.sqrt(n)*sum(x))\n",
        "    return z\n",
        "\n",
        "Z_5 = drawZ(5)\n",
        "Z_50 = drawZ(50)\n",
        "Z_250 = drawZ(250)\n",
        "\n",
        "fig, axs = plt.subplots(1, 3, figsize=(10,3));\n",
        "axs[0].hist(Z_5)\n",
        "axs[0].set_title('n=5')\n",
        "axs[1].hist(Z_50)\n",
        "axs[1].set_title('n=50')\n",
        "axs[2].hist(Z_250)\n",
        "axs[2].set_title('n=250')\n"
      ],
      "execution_count": null,
      "outputs": [
        {
          "output_type": "execute_result",
          "data": {
            "text/plain": [
              "Text(0.5, 1.0, 'n=250')"
            ]
          },
          "metadata": {
            "tags": []
          },
          "execution_count": 210
        },
        {
          "output_type": "display_data",
          "data": {
            "image/png": "[encoded data removed]",
            "text/plain": [
              "<Figure size 720x216 with 3 Axes>"
            ]
          },
          "metadata": {
            "tags": [],
            "needs_background": "light"
          }
        }
      ]
    },
    {
      "cell_type": "markdown",
      "metadata": {
        "id": "dvJLoigzOx04",
        "colab_type": "text"
      },
      "source": [
        "## Problem 3"
      ]
    },
    {
      "cell_type": "code",
      "metadata": {
        "id": "oxj1UgyAOx05",
        "colab_type": "code",
        "colab": {},
        "outputId": "9c79ae8d-569c-4f7e-ea50-892017b36ec2"
      },
      "source": [
        "num_samples = 25000\n",
        "gd = np.random.normal(0,5,num_samples)\n",
        "est_mean = gd.sum()/num_samples\n",
        "est_var = (1.0/num_samples-1)*(np.sum((gd - est_mean)**2))\n",
        "est_std = np.sqrt(gd_var)\n",
        "print('mean: {}, std: {}'.format(est_mean, est_std))"
      ],
      "execution_count": null,
      "outputs": [
        {
          "output_type": "stream",
          "text": [
            "mean: 0.010444171610128873, std: 5.017196540955754\n"
          ],
          "name": "stdout"
        }
      ]
    },
    {
      "cell_type": "markdown",
      "metadata": {
        "id": "prWQq7JpOx08",
        "colab_type": "text"
      },
      "source": [
        "## Problem 4"
      ]
    },
    {
      "cell_type": "code",
      "metadata": {
        "id": "IIFMQsL7Ox08",
        "colab_type": "code",
        "colab": {},
        "outputId": "bbb6458f-ca3f-4564-eb9b-4e425f895d52"
      },
      "source": [
        "num_samples = 10000\n",
        "mean = np.array([-5,5])\n",
        "cov = np.matrix([[20, .8],[.8, 30]])\n",
        "mvn = np.random.multivariate_normal(mean, cov, num_samples)\n",
        "est_mean = mvn.sum(axis=0, keepdims=True)/num_samples\n",
        "cent = mvn - est_mean\n",
        "est_cov = (1.0/(num_samples-1))*np.dot(cent.T, cent)\n",
        "print('mean: {} \\n\\n cov: {}'.format(est_mean, est_cov))"
      ],
      "execution_count": null,
      "outputs": [
        {
          "output_type": "stream",
          "text": [
            "mean: [[-4.98824049  4.98910618]] \n",
            "\n",
            " cov: [[20.10127783  0.53561709]\n",
            " [ 0.53561709 29.89813564]]\n"
          ],
          "name": "stdout"
        }
      ]
    },
    {
      "cell_type": "markdown",
      "metadata": {
        "id": "cijLZQLtOx0_",
        "colab_type": "text"
      },
      "source": [
        "## Problem 5"
      ]
    },
    {
      "cell_type": "code",
      "metadata": {
        "id": "S7X1w6RVOx0_",
        "colab_type": "code",
        "colab": {},
        "outputId": "74d7377d-c8c5-485f-f167-cec79d4d9ddf"
      },
      "source": [
        "df = pd.read_csv('PatientData.csv', header=None, na_values='?')\n",
        "df.head(5)"
      ],
      "execution_count": null,
      "outputs": [
        {
          "output_type": "execute_result",
          "data": {
            "text/html": [
              "<div>\n",
              "<style scoped>\n",
              "    .dataframe tbody tr th:only-of-type {\n",
              "        vertical-align: middle;\n",
              "    }\n",
              "\n",
              "    .dataframe tbody tr th {\n",
              "        vertical-align: top;\n",
              "    }\n",
              "\n",
              "    .dataframe thead th {\n",
              "        text-align: right;\n",
              "    }\n",
              "</style>\n",
              "<table border=\"1\" class=\"dataframe\">\n",
              "  <thead>\n",
              "    <tr style=\"text-align: right;\">\n",
              "      <th></th>\n",
              "      <th>0</th>\n",
              "      <th>1</th>\n",
              "      <th>2</th>\n",
              "      <th>3</th>\n",
              "      <th>4</th>\n",
              "      <th>5</th>\n",
              "      <th>6</th>\n",
              "      <th>7</th>\n",
              "      <th>8</th>\n",
              "      <th>9</th>\n",
              "      <th>...</th>\n",
              "      <th>270</th>\n",
              "      <th>271</th>\n",
              "      <th>272</th>\n",
              "      <th>273</th>\n",
              "      <th>274</th>\n",
              "      <th>275</th>\n",
              "      <th>276</th>\n",
              "      <th>277</th>\n",
              "      <th>278</th>\n",
              "      <th>279</th>\n",
              "    </tr>\n",
              "  </thead>\n",
              "  <tbody>\n",
              "    <tr>\n",
              "      <td>0</td>\n",
              "      <td>75</td>\n",
              "      <td>0</td>\n",
              "      <td>190</td>\n",
              "      <td>80</td>\n",
              "      <td>91</td>\n",
              "      <td>193</td>\n",
              "      <td>371</td>\n",
              "      <td>174</td>\n",
              "      <td>121</td>\n",
              "      <td>-16</td>\n",
              "      <td>...</td>\n",
              "      <td>0.0</td>\n",
              "      <td>9.0</td>\n",
              "      <td>-0.9</td>\n",
              "      <td>0.0</td>\n",
              "      <td>0.0</td>\n",
              "      <td>0.9</td>\n",
              "      <td>2.9</td>\n",
              "      <td>23.3</td>\n",
              "      <td>49.4</td>\n",
              "      <td>8</td>\n",
              "    </tr>\n",
              "    <tr>\n",
              "      <td>1</td>\n",
              "      <td>56</td>\n",
              "      <td>1</td>\n",
              "      <td>165</td>\n",
              "      <td>64</td>\n",
              "      <td>81</td>\n",
              "      <td>174</td>\n",
              "      <td>401</td>\n",
              "      <td>149</td>\n",
              "      <td>39</td>\n",
              "      <td>25</td>\n",
              "      <td>...</td>\n",
              "      <td>0.0</td>\n",
              "      <td>8.5</td>\n",
              "      <td>0.0</td>\n",
              "      <td>0.0</td>\n",
              "      <td>0.0</td>\n",
              "      <td>0.2</td>\n",
              "      <td>2.1</td>\n",
              "      <td>20.4</td>\n",
              "      <td>38.8</td>\n",
              "      <td>6</td>\n",
              "    </tr>\n",
              "    <tr>\n",
              "      <td>2</td>\n",
              "      <td>54</td>\n",
              "      <td>0</td>\n",
              "      <td>172</td>\n",
              "      <td>95</td>\n",
              "      <td>138</td>\n",
              "      <td>163</td>\n",
              "      <td>386</td>\n",
              "      <td>185</td>\n",
              "      <td>102</td>\n",
              "      <td>96</td>\n",
              "      <td>...</td>\n",
              "      <td>0.0</td>\n",
              "      <td>9.5</td>\n",
              "      <td>-2.4</td>\n",
              "      <td>0.0</td>\n",
              "      <td>0.0</td>\n",
              "      <td>0.3</td>\n",
              "      <td>3.4</td>\n",
              "      <td>12.3</td>\n",
              "      <td>49.0</td>\n",
              "      <td>10</td>\n",
              "    </tr>\n",
              "    <tr>\n",
              "      <td>3</td>\n",
              "      <td>55</td>\n",
              "      <td>0</td>\n",
              "      <td>175</td>\n",
              "      <td>94</td>\n",
              "      <td>100</td>\n",
              "      <td>202</td>\n",
              "      <td>380</td>\n",
              "      <td>179</td>\n",
              "      <td>143</td>\n",
              "      <td>28</td>\n",
              "      <td>...</td>\n",
              "      <td>0.0</td>\n",
              "      <td>12.2</td>\n",
              "      <td>-2.2</td>\n",
              "      <td>0.0</td>\n",
              "      <td>0.0</td>\n",
              "      <td>0.4</td>\n",
              "      <td>2.6</td>\n",
              "      <td>34.6</td>\n",
              "      <td>61.6</td>\n",
              "      <td>1</td>\n",
              "    </tr>\n",
              "    <tr>\n",
              "      <td>4</td>\n",
              "      <td>75</td>\n",
              "      <td>0</td>\n",
              "      <td>190</td>\n",
              "      <td>80</td>\n",
              "      <td>88</td>\n",
              "      <td>181</td>\n",
              "      <td>360</td>\n",
              "      <td>177</td>\n",
              "      <td>103</td>\n",
              "      <td>-16</td>\n",
              "      <td>...</td>\n",
              "      <td>0.0</td>\n",
              "      <td>13.1</td>\n",
              "      <td>-3.6</td>\n",
              "      <td>0.0</td>\n",
              "      <td>0.0</td>\n",
              "      <td>-0.1</td>\n",
              "      <td>3.9</td>\n",
              "      <td>25.4</td>\n",
              "      <td>62.8</td>\n",
              "      <td>7</td>\n",
              "    </tr>\n",
              "  </tbody>\n",
              "</table>\n",
              "<p>5 rows × 280 columns</p>\n",
              "</div>"
            ],
            "text/plain": [
              "   0    1    2    3    4    5    6    7    8    9    ...  270   271  272  273  \\\n",
              "0   75    0  190   80   91  193  371  174  121  -16  ...  0.0   9.0 -0.9  0.0   \n",
              "1   56    1  165   64   81  174  401  149   39   25  ...  0.0   8.5  0.0  0.0   \n",
              "2   54    0  172   95  138  163  386  185  102   96  ...  0.0   9.5 -2.4  0.0   \n",
              "3   55    0  175   94  100  202  380  179  143   28  ...  0.0  12.2 -2.2  0.0   \n",
              "4   75    0  190   80   88  181  360  177  103  -16  ...  0.0  13.1 -3.6  0.0   \n",
              "\n",
              "   274  275  276   277   278  279  \n",
              "0  0.0  0.9  2.9  23.3  49.4    8  \n",
              "1  0.0  0.2  2.1  20.4  38.8    6  \n",
              "2  0.0  0.3  3.4  12.3  49.0   10  \n",
              "3  0.0  0.4  2.6  34.6  61.6    1  \n",
              "4  0.0 -0.1  3.9  25.4  62.8    7  \n",
              "\n",
              "[5 rows x 280 columns]"
            ]
          },
          "metadata": {
            "tags": []
          },
          "execution_count": 341
        }
      ]
    },
    {
      "cell_type": "code",
      "metadata": {
        "id": "qyBWfMF8Ox1B",
        "colab_type": "code",
        "colab": {},
        "outputId": "4a8ce2a7-5d1b-41a9-dd80-8e4ecf7e722b"
      },
      "source": [
        "df.dtypes.value_counts()"
      ],
      "execution_count": null,
      "outputs": [
        {
          "output_type": "execute_result",
          "data": {
            "text/plain": [
              "int64      155\n",
              "float64    125\n",
              "dtype: int64"
            ]
          },
          "metadata": {
            "tags": []
          },
          "execution_count": 357
        }
      ]
    },
    {
      "cell_type": "code",
      "metadata": {
        "id": "HXGDyMwsOx1D",
        "colab_type": "code",
        "colab": {},
        "outputId": "25b9de76-3fb1-4c3d-9b69-9c14ef9b3f76"
      },
      "source": [
        "df=df.rename(columns = {279:'condition'})\n",
        "target_perc = pd.DataFrame(df.condition.value_counts())\n",
        "target_perc['Percentage'] = 100*df.condition/df.shape[0]\n",
        "target_perc"
      ],
      "execution_count": null,
      "outputs": [
        {
          "output_type": "execute_result",
          "data": {
            "text/html": [
              "<div>\n",
              "<style scoped>\n",
              "    .dataframe tbody tr th:only-of-type {\n",
              "        vertical-align: middle;\n",
              "    }\n",
              "\n",
              "    .dataframe tbody tr th {\n",
              "        vertical-align: top;\n",
              "    }\n",
              "\n",
              "    .dataframe thead th {\n",
              "        text-align: right;\n",
              "    }\n",
              "</style>\n",
              "<table border=\"1\" class=\"dataframe\">\n",
              "  <thead>\n",
              "    <tr style=\"text-align: right;\">\n",
              "      <th></th>\n",
              "      <th>condition</th>\n",
              "      <th>Percentage</th>\n",
              "    </tr>\n",
              "  </thead>\n",
              "  <tbody>\n",
              "    <tr>\n",
              "      <td>1</td>\n",
              "      <td>245</td>\n",
              "      <td>1.327434</td>\n",
              "    </tr>\n",
              "    <tr>\n",
              "      <td>10</td>\n",
              "      <td>50</td>\n",
              "      <td>0.663717</td>\n",
              "    </tr>\n",
              "    <tr>\n",
              "      <td>2</td>\n",
              "      <td>44</td>\n",
              "      <td>2.212389</td>\n",
              "    </tr>\n",
              "    <tr>\n",
              "      <td>6</td>\n",
              "      <td>25</td>\n",
              "      <td>0.221239</td>\n",
              "    </tr>\n",
              "    <tr>\n",
              "      <td>16</td>\n",
              "      <td>22</td>\n",
              "      <td>2.212389</td>\n",
              "    </tr>\n",
              "    <tr>\n",
              "      <td>4</td>\n",
              "      <td>15</td>\n",
              "      <td>1.548673</td>\n",
              "    </tr>\n",
              "    <tr>\n",
              "      <td>3</td>\n",
              "      <td>15</td>\n",
              "      <td>0.221239</td>\n",
              "    </tr>\n",
              "    <tr>\n",
              "      <td>5</td>\n",
              "      <td>13</td>\n",
              "      <td>3.097345</td>\n",
              "    </tr>\n",
              "    <tr>\n",
              "      <td>9</td>\n",
              "      <td>9</td>\n",
              "      <td>2.212389</td>\n",
              "    </tr>\n",
              "    <tr>\n",
              "      <td>15</td>\n",
              "      <td>5</td>\n",
              "      <td>0.221239</td>\n",
              "    </tr>\n",
              "    <tr>\n",
              "      <td>14</td>\n",
              "      <td>4</td>\n",
              "      <td>0.221239</td>\n",
              "    </tr>\n",
              "    <tr>\n",
              "      <td>7</td>\n",
              "      <td>3</td>\n",
              "      <td>0.221239</td>\n",
              "    </tr>\n",
              "    <tr>\n",
              "      <td>8</td>\n",
              "      <td>2</td>\n",
              "      <td>0.221239</td>\n",
              "    </tr>\n",
              "  </tbody>\n",
              "</table>\n",
              "</div>"
            ],
            "text/plain": [
              "    condition  Percentage\n",
              "1         245    1.327434\n",
              "10         50    0.663717\n",
              "2          44    2.212389\n",
              "6          25    0.221239\n",
              "16         22    2.212389\n",
              "4          15    1.548673\n",
              "3          15    0.221239\n",
              "5          13    3.097345\n",
              "9           9    2.212389\n",
              "15          5    0.221239\n",
              "14          4    0.221239\n",
              "7           3    0.221239\n",
              "8           2    0.221239"
            ]
          },
          "metadata": {
            "tags": []
          },
          "execution_count": 342
        }
      ]
    },
    {
      "cell_type": "markdown",
      "metadata": {
        "id": "3DanDmu0Ox1F",
        "colab_type": "text"
      },
      "source": [
        ">a"
      ]
    },
    {
      "cell_type": "code",
      "metadata": {
        "id": "w2KCHVvTOx1G",
        "colab_type": "code",
        "colab": {},
        "outputId": "5eb0727e-a98e-4989-d0f9-5d1d67e809d9"
      },
      "source": [
        "print('number of patients: {}, number of features: {}'.format(df.shape[0],df.shape[1]))"
      ],
      "execution_count": null,
      "outputs": [
        {
          "output_type": "stream",
          "text": [
            "number of patients: 452, number of features: 280\n"
          ],
          "name": "stdout"
        }
      ]
    },
    {
      "cell_type": "markdown",
      "metadata": {
        "id": "TAnneGBOOx1I",
        "colab_type": "text"
      },
      "source": [
        "> b"
      ]
    },
    {
      "cell_type": "code",
      "metadata": {
        "id": "l9ec4j4ZOx1J",
        "colab_type": "code",
        "colab": {},
        "outputId": "060ae2e1-8da2-436e-e576-31a8af51f2d0"
      },
      "source": [
        "df.describe(include=[np.number])"
      ],
      "execution_count": null,
      "outputs": [
        {
          "output_type": "execute_result",
          "data": {
            "text/html": [
              "<div>\n",
              "<style scoped>\n",
              "    .dataframe tbody tr th:only-of-type {\n",
              "        vertical-align: middle;\n",
              "    }\n",
              "\n",
              "    .dataframe tbody tr th {\n",
              "        vertical-align: top;\n",
              "    }\n",
              "\n",
              "    .dataframe thead th {\n",
              "        text-align: right;\n",
              "    }\n",
              "</style>\n",
              "<table border=\"1\" class=\"dataframe\">\n",
              "  <thead>\n",
              "    <tr style=\"text-align: right;\">\n",
              "      <th></th>\n",
              "      <th>0</th>\n",
              "      <th>1</th>\n",
              "      <th>2</th>\n",
              "      <th>3</th>\n",
              "      <th>4</th>\n",
              "      <th>5</th>\n",
              "      <th>6</th>\n",
              "      <th>7</th>\n",
              "      <th>8</th>\n",
              "      <th>9</th>\n",
              "      <th>...</th>\n",
              "      <th>270</th>\n",
              "      <th>271</th>\n",
              "      <th>272</th>\n",
              "      <th>273</th>\n",
              "      <th>274</th>\n",
              "      <th>275</th>\n",
              "      <th>276</th>\n",
              "      <th>277</th>\n",
              "      <th>278</th>\n",
              "      <th>condition</th>\n",
              "    </tr>\n",
              "  </thead>\n",
              "  <tbody>\n",
              "    <tr>\n",
              "      <td>count</td>\n",
              "      <td>452.000000</td>\n",
              "      <td>452.000000</td>\n",
              "      <td>452.000000</td>\n",
              "      <td>452.000000</td>\n",
              "      <td>452.000000</td>\n",
              "      <td>452.000000</td>\n",
              "      <td>452.000000</td>\n",
              "      <td>452.000000</td>\n",
              "      <td>452.000000</td>\n",
              "      <td>452.000000</td>\n",
              "      <td>...</td>\n",
              "      <td>452.000000</td>\n",
              "      <td>452.000000</td>\n",
              "      <td>452.000000</td>\n",
              "      <td>452.000000</td>\n",
              "      <td>452.0</td>\n",
              "      <td>452.000000</td>\n",
              "      <td>452.000000</td>\n",
              "      <td>452.000000</td>\n",
              "      <td>452.000000</td>\n",
              "      <td>452.000000</td>\n",
              "    </tr>\n",
              "    <tr>\n",
              "      <td>mean</td>\n",
              "      <td>46.471239</td>\n",
              "      <td>0.550885</td>\n",
              "      <td>166.188053</td>\n",
              "      <td>68.170354</td>\n",
              "      <td>88.920354</td>\n",
              "      <td>155.152655</td>\n",
              "      <td>367.207965</td>\n",
              "      <td>169.949115</td>\n",
              "      <td>90.004425</td>\n",
              "      <td>33.676991</td>\n",
              "      <td>...</td>\n",
              "      <td>-0.278982</td>\n",
              "      <td>9.048009</td>\n",
              "      <td>-1.457301</td>\n",
              "      <td>0.003982</td>\n",
              "      <td>0.0</td>\n",
              "      <td>0.514823</td>\n",
              "      <td>1.222345</td>\n",
              "      <td>19.326106</td>\n",
              "      <td>29.473230</td>\n",
              "      <td>3.880531</td>\n",
              "    </tr>\n",
              "    <tr>\n",
              "      <td>std</td>\n",
              "      <td>16.466631</td>\n",
              "      <td>0.497955</td>\n",
              "      <td>37.170340</td>\n",
              "      <td>16.590803</td>\n",
              "      <td>15.364394</td>\n",
              "      <td>44.842283</td>\n",
              "      <td>33.385421</td>\n",
              "      <td>35.633072</td>\n",
              "      <td>25.826643</td>\n",
              "      <td>45.431434</td>\n",
              "      <td>...</td>\n",
              "      <td>0.548876</td>\n",
              "      <td>3.472862</td>\n",
              "      <td>2.002430</td>\n",
              "      <td>0.050118</td>\n",
              "      <td>0.0</td>\n",
              "      <td>0.347531</td>\n",
              "      <td>1.426052</td>\n",
              "      <td>13.503922</td>\n",
              "      <td>18.493927</td>\n",
              "      <td>4.407097</td>\n",
              "    </tr>\n",
              "    <tr>\n",
              "      <td>min</td>\n",
              "      <td>0.000000</td>\n",
              "      <td>0.000000</td>\n",
              "      <td>105.000000</td>\n",
              "      <td>6.000000</td>\n",
              "      <td>55.000000</td>\n",
              "      <td>0.000000</td>\n",
              "      <td>232.000000</td>\n",
              "      <td>108.000000</td>\n",
              "      <td>0.000000</td>\n",
              "      <td>-172.000000</td>\n",
              "      <td>...</td>\n",
              "      <td>-4.100000</td>\n",
              "      <td>0.000000</td>\n",
              "      <td>-28.600000</td>\n",
              "      <td>0.000000</td>\n",
              "      <td>0.0</td>\n",
              "      <td>-0.800000</td>\n",
              "      <td>-6.000000</td>\n",
              "      <td>-44.200000</td>\n",
              "      <td>-38.600000</td>\n",
              "      <td>1.000000</td>\n",
              "    </tr>\n",
              "    <tr>\n",
              "      <td>25%</td>\n",
              "      <td>36.000000</td>\n",
              "      <td>0.000000</td>\n",
              "      <td>160.000000</td>\n",
              "      <td>59.000000</td>\n",
              "      <td>80.000000</td>\n",
              "      <td>142.000000</td>\n",
              "      <td>350.000000</td>\n",
              "      <td>148.000000</td>\n",
              "      <td>79.000000</td>\n",
              "      <td>3.750000</td>\n",
              "      <td>...</td>\n",
              "      <td>-0.425000</td>\n",
              "      <td>6.600000</td>\n",
              "      <td>-2.100000</td>\n",
              "      <td>0.000000</td>\n",
              "      <td>0.0</td>\n",
              "      <td>0.400000</td>\n",
              "      <td>0.500000</td>\n",
              "      <td>11.450000</td>\n",
              "      <td>17.550000</td>\n",
              "      <td>1.000000</td>\n",
              "    </tr>\n",
              "    <tr>\n",
              "      <td>50%</td>\n",
              "      <td>47.000000</td>\n",
              "      <td>1.000000</td>\n",
              "      <td>164.000000</td>\n",
              "      <td>68.000000</td>\n",
              "      <td>86.000000</td>\n",
              "      <td>157.000000</td>\n",
              "      <td>367.000000</td>\n",
              "      <td>162.000000</td>\n",
              "      <td>91.000000</td>\n",
              "      <td>40.000000</td>\n",
              "      <td>...</td>\n",
              "      <td>0.000000</td>\n",
              "      <td>8.800000</td>\n",
              "      <td>-1.100000</td>\n",
              "      <td>0.000000</td>\n",
              "      <td>0.0</td>\n",
              "      <td>0.500000</td>\n",
              "      <td>1.350000</td>\n",
              "      <td>18.100000</td>\n",
              "      <td>27.900000</td>\n",
              "      <td>1.000000</td>\n",
              "    </tr>\n",
              "    <tr>\n",
              "      <td>75%</td>\n",
              "      <td>58.000000</td>\n",
              "      <td>1.000000</td>\n",
              "      <td>170.000000</td>\n",
              "      <td>79.000000</td>\n",
              "      <td>94.000000</td>\n",
              "      <td>175.000000</td>\n",
              "      <td>384.000000</td>\n",
              "      <td>179.000000</td>\n",
              "      <td>102.000000</td>\n",
              "      <td>66.000000</td>\n",
              "      <td>...</td>\n",
              "      <td>0.000000</td>\n",
              "      <td>11.200000</td>\n",
              "      <td>0.000000</td>\n",
              "      <td>0.000000</td>\n",
              "      <td>0.0</td>\n",
              "      <td>0.700000</td>\n",
              "      <td>2.100000</td>\n",
              "      <td>25.825000</td>\n",
              "      <td>41.125000</td>\n",
              "      <td>6.000000</td>\n",
              "    </tr>\n",
              "    <tr>\n",
              "      <td>max</td>\n",
              "      <td>83.000000</td>\n",
              "      <td>1.000000</td>\n",
              "      <td>780.000000</td>\n",
              "      <td>176.000000</td>\n",
              "      <td>188.000000</td>\n",
              "      <td>524.000000</td>\n",
              "      <td>509.000000</td>\n",
              "      <td>381.000000</td>\n",
              "      <td>205.000000</td>\n",
              "      <td>169.000000</td>\n",
              "      <td>...</td>\n",
              "      <td>0.000000</td>\n",
              "      <td>23.600000</td>\n",
              "      <td>0.000000</td>\n",
              "      <td>0.800000</td>\n",
              "      <td>0.0</td>\n",
              "      <td>2.400000</td>\n",
              "      <td>6.000000</td>\n",
              "      <td>88.800000</td>\n",
              "      <td>115.900000</td>\n",
              "      <td>16.000000</td>\n",
              "    </tr>\n",
              "  </tbody>\n",
              "</table>\n",
              "<p>8 rows × 280 columns</p>\n",
              "</div>"
            ],
            "text/plain": [
              "                0           1           2           3           4           5  \\\n",
              "count  452.000000  452.000000  452.000000  452.000000  452.000000  452.000000   \n",
              "mean    46.471239    0.550885  166.188053   68.170354   88.920354  155.152655   \n",
              "std     16.466631    0.497955   37.170340   16.590803   15.364394   44.842283   \n",
              "min      0.000000    0.000000  105.000000    6.000000   55.000000    0.000000   \n",
              "25%     36.000000    0.000000  160.000000   59.000000   80.000000  142.000000   \n",
              "50%     47.000000    1.000000  164.000000   68.000000   86.000000  157.000000   \n",
              "75%     58.000000    1.000000  170.000000   79.000000   94.000000  175.000000   \n",
              "max     83.000000    1.000000  780.000000  176.000000  188.000000  524.000000   \n",
              "\n",
              "                6           7           8           9  ...         270  \\\n",
              "count  452.000000  452.000000  452.000000  452.000000  ...  452.000000   \n",
              "mean   367.207965  169.949115   90.004425   33.676991  ...   -0.278982   \n",
              "std     33.385421   35.633072   25.826643   45.431434  ...    0.548876   \n",
              "min    232.000000  108.000000    0.000000 -172.000000  ...   -4.100000   \n",
              "25%    350.000000  148.000000   79.000000    3.750000  ...   -0.425000   \n",
              "50%    367.000000  162.000000   91.000000   40.000000  ...    0.000000   \n",
              "75%    384.000000  179.000000  102.000000   66.000000  ...    0.000000   \n",
              "max    509.000000  381.000000  205.000000  169.000000  ...    0.000000   \n",
              "\n",
              "              271         272         273    274         275         276  \\\n",
              "count  452.000000  452.000000  452.000000  452.0  452.000000  452.000000   \n",
              "mean     9.048009   -1.457301    0.003982    0.0    0.514823    1.222345   \n",
              "std      3.472862    2.002430    0.050118    0.0    0.347531    1.426052   \n",
              "min      0.000000  -28.600000    0.000000    0.0   -0.800000   -6.000000   \n",
              "25%      6.600000   -2.100000    0.000000    0.0    0.400000    0.500000   \n",
              "50%      8.800000   -1.100000    0.000000    0.0    0.500000    1.350000   \n",
              "75%     11.200000    0.000000    0.000000    0.0    0.700000    2.100000   \n",
              "max     23.600000    0.000000    0.800000    0.0    2.400000    6.000000   \n",
              "\n",
              "              277         278   condition  \n",
              "count  452.000000  452.000000  452.000000  \n",
              "mean    19.326106   29.473230    3.880531  \n",
              "std     13.503922   18.493927    4.407097  \n",
              "min    -44.200000  -38.600000    1.000000  \n",
              "25%     11.450000   17.550000    1.000000  \n",
              "50%     18.100000   27.900000    1.000000  \n",
              "75%     25.825000   41.125000    6.000000  \n",
              "max     88.800000  115.900000   16.000000  \n",
              "\n",
              "[8 rows x 280 columns]"
            ]
          },
          "metadata": {
            "tags": []
          },
          "execution_count": 344
        }
      ]
    },
    {
      "cell_type": "code",
      "metadata": {
        "id": "NeC9L9pVOx1L",
        "colab_type": "code",
        "colab": {},
        "outputId": "661cbb91-f4be-422f-b13f-2ecd07d47105"
      },
      "source": [
        "df2 = df.iloc[:,[0,1,2,3,279]]\n",
        "df2.sort_values(by=2, ascending=False)"
      ],
      "execution_count": null,
      "outputs": [
        {
          "output_type": "execute_result",
          "data": {
            "text/html": [
              "<div>\n",
              "<style scoped>\n",
              "    .dataframe tbody tr th:only-of-type {\n",
              "        vertical-align: middle;\n",
              "    }\n",
              "\n",
              "    .dataframe tbody tr th {\n",
              "        vertical-align: top;\n",
              "    }\n",
              "\n",
              "    .dataframe thead th {\n",
              "        text-align: right;\n",
              "    }\n",
              "</style>\n",
              "<table border=\"1\" class=\"dataframe\">\n",
              "  <thead>\n",
              "    <tr style=\"text-align: right;\">\n",
              "      <th></th>\n",
              "      <th>0</th>\n",
              "      <th>1</th>\n",
              "      <th>2</th>\n",
              "      <th>3</th>\n",
              "      <th>condition</th>\n",
              "    </tr>\n",
              "  </thead>\n",
              "  <tbody>\n",
              "    <tr>\n",
              "      <td>141</td>\n",
              "      <td>1</td>\n",
              "      <td>1</td>\n",
              "      <td>780</td>\n",
              "      <td>6</td>\n",
              "      <td>5</td>\n",
              "    </tr>\n",
              "    <tr>\n",
              "      <td>316</td>\n",
              "      <td>0</td>\n",
              "      <td>0</td>\n",
              "      <td>608</td>\n",
              "      <td>10</td>\n",
              "      <td>5</td>\n",
              "    </tr>\n",
              "    <tr>\n",
              "      <td>0</td>\n",
              "      <td>75</td>\n",
              "      <td>0</td>\n",
              "      <td>190</td>\n",
              "      <td>80</td>\n",
              "      <td>8</td>\n",
              "    </tr>\n",
              "    <tr>\n",
              "      <td>4</td>\n",
              "      <td>75</td>\n",
              "      <td>0</td>\n",
              "      <td>190</td>\n",
              "      <td>80</td>\n",
              "      <td>7</td>\n",
              "    </tr>\n",
              "    <tr>\n",
              "      <td>448</td>\n",
              "      <td>37</td>\n",
              "      <td>0</td>\n",
              "      <td>190</td>\n",
              "      <td>85</td>\n",
              "      <td>10</td>\n",
              "    </tr>\n",
              "    <tr>\n",
              "      <td>...</td>\n",
              "      <td>...</td>\n",
              "      <td>...</td>\n",
              "      <td>...</td>\n",
              "      <td>...</td>\n",
              "      <td>...</td>\n",
              "    </tr>\n",
              "    <tr>\n",
              "      <td>401</td>\n",
              "      <td>9</td>\n",
              "      <td>0</td>\n",
              "      <td>120</td>\n",
              "      <td>25</td>\n",
              "      <td>14</td>\n",
              "    </tr>\n",
              "    <tr>\n",
              "      <td>379</td>\n",
              "      <td>8</td>\n",
              "      <td>0</td>\n",
              "      <td>120</td>\n",
              "      <td>28</td>\n",
              "      <td>10</td>\n",
              "    </tr>\n",
              "    <tr>\n",
              "      <td>424</td>\n",
              "      <td>7</td>\n",
              "      <td>0</td>\n",
              "      <td>119</td>\n",
              "      <td>21</td>\n",
              "      <td>9</td>\n",
              "    </tr>\n",
              "    <tr>\n",
              "      <td>60</td>\n",
              "      <td>1</td>\n",
              "      <td>0</td>\n",
              "      <td>110</td>\n",
              "      <td>10</td>\n",
              "      <td>5</td>\n",
              "    </tr>\n",
              "    <tr>\n",
              "      <td>320</td>\n",
              "      <td>3</td>\n",
              "      <td>0</td>\n",
              "      <td>105</td>\n",
              "      <td>12</td>\n",
              "      <td>5</td>\n",
              "    </tr>\n",
              "  </tbody>\n",
              "</table>\n",
              "<p>452 rows × 5 columns</p>\n",
              "</div>"
            ],
            "text/plain": [
              "      0  1    2   3  condition\n",
              "141   1  1  780   6          5\n",
              "316   0  0  608  10          5\n",
              "0    75  0  190  80          8\n",
              "4    75  0  190  80          7\n",
              "448  37  0  190  85         10\n",
              "..   .. ..  ...  ..        ...\n",
              "401   9  0  120  25         14\n",
              "379   8  0  120  28         10\n",
              "424   7  0  119  21          9\n",
              "60    1  0  110  10          5\n",
              "320   3  0  105  12          5\n",
              "\n",
              "[452 rows x 5 columns]"
            ]
          },
          "metadata": {
            "tags": []
          },
          "execution_count": 317
        }
      ]
    },
    {
      "cell_type": "markdown",
      "metadata": {
        "id": "xl6vLxz9Ox1N",
        "colab_type": "text"
      },
      "source": [
        "it seems like for feature 2 - 780 and 608 was an input error - replace them by mean of the entries similar to those data points. "
      ]
    },
    {
      "cell_type": "code",
      "metadata": {
        "id": "iZlonvBQOx1O",
        "colab_type": "code",
        "colab": {},
        "outputId": "72adfff8-7225-4b86-8017-3ad695841eaf"
      },
      "source": [
        "weird_indices = df2[df2[2]>=500].index.values\n",
        "df2.iloc[weird_indices,:]"
      ],
      "execution_count": null,
      "outputs": [
        {
          "output_type": "execute_result",
          "data": {
            "text/html": [
              "<div>\n",
              "<style scoped>\n",
              "    .dataframe tbody tr th:only-of-type {\n",
              "        vertical-align: middle;\n",
              "    }\n",
              "\n",
              "    .dataframe tbody tr th {\n",
              "        vertical-align: top;\n",
              "    }\n",
              "\n",
              "    .dataframe thead th {\n",
              "        text-align: right;\n",
              "    }\n",
              "</style>\n",
              "<table border=\"1\" class=\"dataframe\">\n",
              "  <thead>\n",
              "    <tr style=\"text-align: right;\">\n",
              "      <th></th>\n",
              "      <th>0</th>\n",
              "      <th>1</th>\n",
              "      <th>2</th>\n",
              "      <th>3</th>\n",
              "      <th>condition</th>\n",
              "    </tr>\n",
              "  </thead>\n",
              "  <tbody>\n",
              "    <tr>\n",
              "      <td>141</td>\n",
              "      <td>1</td>\n",
              "      <td>1</td>\n",
              "      <td>780</td>\n",
              "      <td>6</td>\n",
              "      <td>5</td>\n",
              "    </tr>\n",
              "    <tr>\n",
              "      <td>316</td>\n",
              "      <td>0</td>\n",
              "      <td>0</td>\n",
              "      <td>608</td>\n",
              "      <td>10</td>\n",
              "      <td>5</td>\n",
              "    </tr>\n",
              "  </tbody>\n",
              "</table>\n",
              "</div>"
            ],
            "text/plain": [
              "     0  1    2   3  condition\n",
              "141  1  1  780   6          5\n",
              "316  0  0  608  10          5"
            ]
          },
          "metadata": {
            "tags": []
          },
          "execution_count": 318
        }
      ]
    },
    {
      "cell_type": "code",
      "metadata": {
        "id": "LPMxWE-YOx1P",
        "colab_type": "code",
        "colab": {},
        "outputId": "8ed9dac3-4dff-41d9-d588-e4a9ffb9febe"
      },
      "source": [
        "df3 = df2[(df2[0]<5) & (df['condition']==5)]\n",
        "df3 = df3.drop(weird_indices)\n",
        "df3"
      ],
      "execution_count": null,
      "outputs": [
        {
          "output_type": "execute_result",
          "data": {
            "text/html": [
              "<div>\n",
              "<style scoped>\n",
              "    .dataframe tbody tr th:only-of-type {\n",
              "        vertical-align: middle;\n",
              "    }\n",
              "\n",
              "    .dataframe tbody tr th {\n",
              "        vertical-align: top;\n",
              "    }\n",
              "\n",
              "    .dataframe thead th {\n",
              "        text-align: right;\n",
              "    }\n",
              "</style>\n",
              "<table border=\"1\" class=\"dataframe\">\n",
              "  <thead>\n",
              "    <tr style=\"text-align: right;\">\n",
              "      <th></th>\n",
              "      <th>0</th>\n",
              "      <th>1</th>\n",
              "      <th>2</th>\n",
              "      <th>3</th>\n",
              "      <th>condition</th>\n",
              "    </tr>\n",
              "  </thead>\n",
              "  <tbody>\n",
              "    <tr>\n",
              "      <td>60</td>\n",
              "      <td>1</td>\n",
              "      <td>0</td>\n",
              "      <td>110</td>\n",
              "      <td>10</td>\n",
              "      <td>5</td>\n",
              "    </tr>\n",
              "    <tr>\n",
              "      <td>320</td>\n",
              "      <td>3</td>\n",
              "      <td>0</td>\n",
              "      <td>105</td>\n",
              "      <td>12</td>\n",
              "      <td>5</td>\n",
              "    </tr>\n",
              "  </tbody>\n",
              "</table>\n",
              "</div>"
            ],
            "text/plain": [
              "     0  1    2   3  condition\n",
              "60   1  0  110  10          5\n",
              "320  3  0  105  12          5"
            ]
          },
          "metadata": {
            "tags": []
          },
          "execution_count": 319
        }
      ]
    },
    {
      "cell_type": "code",
      "metadata": {
        "id": "8kHpb91dOx1R",
        "colab_type": "code",
        "colab": {},
        "outputId": "aff93285-b9f3-461c-a9b1-2b2ea1f36b5f"
      },
      "source": [
        "df2.iloc[weird_indices,2] = df3[2].mean()\n",
        "df2.sort_values(by=2, ascending=False)"
      ],
      "execution_count": null,
      "outputs": [
        {
          "output_type": "execute_result",
          "data": {
            "text/html": [
              "<div>\n",
              "<style scoped>\n",
              "    .dataframe tbody tr th:only-of-type {\n",
              "        vertical-align: middle;\n",
              "    }\n",
              "\n",
              "    .dataframe tbody tr th {\n",
              "        vertical-align: top;\n",
              "    }\n",
              "\n",
              "    .dataframe thead th {\n",
              "        text-align: right;\n",
              "    }\n",
              "</style>\n",
              "<table border=\"1\" class=\"dataframe\">\n",
              "  <thead>\n",
              "    <tr style=\"text-align: right;\">\n",
              "      <th></th>\n",
              "      <th>0</th>\n",
              "      <th>1</th>\n",
              "      <th>2</th>\n",
              "      <th>3</th>\n",
              "      <th>condition</th>\n",
              "    </tr>\n",
              "  </thead>\n",
              "  <tbody>\n",
              "    <tr>\n",
              "      <td>0</td>\n",
              "      <td>75</td>\n",
              "      <td>0</td>\n",
              "      <td>190.0</td>\n",
              "      <td>80</td>\n",
              "      <td>8</td>\n",
              "    </tr>\n",
              "    <tr>\n",
              "      <td>4</td>\n",
              "      <td>75</td>\n",
              "      <td>0</td>\n",
              "      <td>190.0</td>\n",
              "      <td>80</td>\n",
              "      <td>7</td>\n",
              "    </tr>\n",
              "    <tr>\n",
              "      <td>448</td>\n",
              "      <td>37</td>\n",
              "      <td>0</td>\n",
              "      <td>190.0</td>\n",
              "      <td>85</td>\n",
              "      <td>10</td>\n",
              "    </tr>\n",
              "    <tr>\n",
              "      <td>332</td>\n",
              "      <td>42</td>\n",
              "      <td>0</td>\n",
              "      <td>188.0</td>\n",
              "      <td>91</td>\n",
              "      <td>16</td>\n",
              "    </tr>\n",
              "    <tr>\n",
              "      <td>346</td>\n",
              "      <td>20</td>\n",
              "      <td>0</td>\n",
              "      <td>186.0</td>\n",
              "      <td>66</td>\n",
              "      <td>10</td>\n",
              "    </tr>\n",
              "    <tr>\n",
              "      <td>...</td>\n",
              "      <td>...</td>\n",
              "      <td>...</td>\n",
              "      <td>...</td>\n",
              "      <td>...</td>\n",
              "      <td>...</td>\n",
              "    </tr>\n",
              "    <tr>\n",
              "      <td>424</td>\n",
              "      <td>7</td>\n",
              "      <td>0</td>\n",
              "      <td>119.0</td>\n",
              "      <td>21</td>\n",
              "      <td>9</td>\n",
              "    </tr>\n",
              "    <tr>\n",
              "      <td>60</td>\n",
              "      <td>1</td>\n",
              "      <td>0</td>\n",
              "      <td>110.0</td>\n",
              "      <td>10</td>\n",
              "      <td>5</td>\n",
              "    </tr>\n",
              "    <tr>\n",
              "      <td>316</td>\n",
              "      <td>0</td>\n",
              "      <td>0</td>\n",
              "      <td>107.5</td>\n",
              "      <td>10</td>\n",
              "      <td>5</td>\n",
              "    </tr>\n",
              "    <tr>\n",
              "      <td>141</td>\n",
              "      <td>1</td>\n",
              "      <td>1</td>\n",
              "      <td>107.5</td>\n",
              "      <td>6</td>\n",
              "      <td>5</td>\n",
              "    </tr>\n",
              "    <tr>\n",
              "      <td>320</td>\n",
              "      <td>3</td>\n",
              "      <td>0</td>\n",
              "      <td>105.0</td>\n",
              "      <td>12</td>\n",
              "      <td>5</td>\n",
              "    </tr>\n",
              "  </tbody>\n",
              "</table>\n",
              "<p>452 rows × 5 columns</p>\n",
              "</div>"
            ],
            "text/plain": [
              "      0  1      2   3  condition\n",
              "0    75  0  190.0  80          8\n",
              "4    75  0  190.0  80          7\n",
              "448  37  0  190.0  85         10\n",
              "332  42  0  188.0  91         16\n",
              "346  20  0  186.0  66         10\n",
              "..   .. ..    ...  ..        ...\n",
              "424   7  0  119.0  21          9\n",
              "60    1  0  110.0  10          5\n",
              "316   0  0  107.5  10          5\n",
              "141   1  1  107.5   6          5\n",
              "320   3  0  105.0  12          5\n",
              "\n",
              "[452 rows x 5 columns]"
            ]
          },
          "metadata": {
            "tags": []
          },
          "execution_count": 320
        }
      ]
    },
    {
      "cell_type": "code",
      "metadata": {
        "id": "BvtRGTXYOx1U",
        "colab_type": "code",
        "colab": {},
        "outputId": "9ee7ed2d-acee-463a-973b-e51a9c50f2ee"
      },
      "source": [
        "df2.hist(bins=50, figsize=(20,15));"
      ],
      "execution_count": null,
      "outputs": [
        {
          "output_type": "display_data",
          "data": {
            "image/png": "[encoded data removed]",
            "text/plain": [
              "<Figure size 1440x1080 with 6 Axes>"
            ]
          },
          "metadata": {
            "tags": [],
            "needs_background": "light"
          }
        }
      ]
    },
    {
      "cell_type": "code",
      "metadata": {
        "id": "7xNXlih1Ox1V",
        "colab_type": "code",
        "colab": {},
        "outputId": "42b8283a-c665-4439-85b6-dd21943bbc06"
      },
      "source": [
        "from pandas.plotting import scatter_matrix\n",
        "scatter_matrix(df2, figsize=(12, 8));"
      ],
      "execution_count": null,
      "outputs": [
        {
          "output_type": "display_data",
          "data": {
            "image/png": "[encoded data removed]",
            "text/plain": [
              "<Figure size 864x576 with 25 Axes>"
            ]
          },
          "metadata": {
            "tags": [],
            "needs_background": "light"
          }
        }
      ]
    },
    {
      "cell_type": "code",
      "metadata": {
        "id": "qncMwqSFOx1X",
        "colab_type": "code",
        "colab": {},
        "outputId": "a6435e6d-5fec-4e2d-9314-bcfeea2e2c8a"
      },
      "source": [
        "# sns.FacetGrid(df2, hue=\"condition\", size=6).map(plt.hist, 0).add_legend()\n",
        "# plt.title('0 vs condition')\n",
        "# plt.show()\n",
        "# df2[df2.condition==1][1].hist(bins=6)\n"
      ],
      "execution_count": null,
      "outputs": [
        {
          "output_type": "execute_result",
          "data": {
            "text/plain": [
              "<matplotlib.axes._subplots.AxesSubplot at 0x25389b048>"
            ]
          },
          "metadata": {
            "tags": []
          },
          "execution_count": 333
        },
        {
          "output_type": "display_data",
          "data": {
            "image/png": "[encoded data removed]",
            "text/plain": [
              "<Figure size 432x288 with 1 Axes>"
            ]
          },
          "metadata": {
            "tags": []
          }
        }
      ]
    },
    {
      "cell_type": "markdown",
      "metadata": {
        "id": "pWjxh6lPOx1Y",
        "colab_type": "text"
      },
      "source": [
        "Maybe 0: age, 1: sex, 2:height in cm, 3: weight in kg"
      ]
    },
    {
      "cell_type": "markdown",
      "metadata": {
        "id": "c8atT6fAOx1Z",
        "colab_type": "text"
      },
      "source": [
        "> c"
      ]
    },
    {
      "cell_type": "code",
      "metadata": {
        "id": "ZNbH7CadOx1Z",
        "colab_type": "code",
        "colab": {},
        "outputId": "20f33acc-c9e4-486b-f2d7-531dd154f100"
      },
      "source": [
        "print('number of n/a values: {}'.format(df.isnull().sum().sum()))\n",
        "df.fillna(df.mean(), inplace=True)"
      ],
      "execution_count": null,
      "outputs": [
        {
          "output_type": "stream",
          "text": [
            "number of n/a values: 408\n"
          ],
          "name": "stdout"
        }
      ]
    },
    {
      "cell_type": "code",
      "metadata": {
        "id": "NM8oAvgCOx1b",
        "colab_type": "code",
        "colab": {},
        "outputId": "db2eab7a-83fb-4cf5-9d1f-48a38ddf654d"
      },
      "source": [
        "print('(check) number of n/a values: {}'.format(df.isnull().sum().sum()))"
      ],
      "execution_count": null,
      "outputs": [
        {
          "output_type": "stream",
          "text": [
            "(check) number of n/a values: 0\n"
          ],
          "name": "stdout"
        }
      ]
    },
    {
      "cell_type": "markdown",
      "metadata": {
        "id": "hWv3G0BaOx1c",
        "colab_type": "text"
      },
      "source": [
        "> d"
      ]
    },
    {
      "cell_type": "code",
      "metadata": {
        "id": "3oCCOBAyOx1c",
        "colab_type": "code",
        "colab": {}
      },
      "source": [
        ""
      ],
      "execution_count": null,
      "outputs": []
    },
    {
      "cell_type": "markdown",
      "metadata": {
        "id": "OkXUrKa-Ox1d",
        "colab_type": "text"
      },
      "source": [
        "Three most important features;"
      ]
    },
    {
      "cell_type": "code",
      "metadata": {
        "id": "v_dHcz6BOx1e",
        "colab_type": "code",
        "colab": {}
      },
      "source": [
        ""
      ],
      "execution_count": null,
      "outputs": []
    },
    {
      "cell_type": "markdown",
      "metadata": {
        "id": "oHHYqepYOx1f",
        "colab_type": "text"
      },
      "source": [
        "# Written Questions"
      ]
    },
    {
      "cell_type": "markdown",
      "metadata": {
        "id": "il_bF6uqOx1f",
        "colab_type": "text"
      },
      "source": [
        "## Problem 1"
      ]
    },
    {
      "cell_type": "code",
      "metadata": {
        "id": "N523v8jOOx1f",
        "colab_type": "code",
        "colab": {},
        "outputId": "2736fa41-8cda-4583-fb61-3eea04b7fc66"
      },
      "source": [
        "data = [[1/4.0, 1/4.0],[1/6.0, 1/3.0]]\n",
        "df = pd.DataFrame(data, columns=['X=0','X=1'], index=['Y=0','Y=1'])\n",
        "df"
      ],
      "execution_count": null,
      "outputs": [
        {
          "output_type": "execute_result",
          "data": {
            "text/html": [
              "<div>\n",
              "<style scoped>\n",
              "    .dataframe tbody tr th:only-of-type {\n",
              "        vertical-align: middle;\n",
              "    }\n",
              "\n",
              "    .dataframe tbody tr th {\n",
              "        vertical-align: top;\n",
              "    }\n",
              "\n",
              "    .dataframe thead th {\n",
              "        text-align: right;\n",
              "    }\n",
              "</style>\n",
              "<table border=\"1\" class=\"dataframe\">\n",
              "  <thead>\n",
              "    <tr style=\"text-align: right;\">\n",
              "      <th></th>\n",
              "      <th>X=0</th>\n",
              "      <th>X=1</th>\n",
              "    </tr>\n",
              "  </thead>\n",
              "  <tbody>\n",
              "    <tr>\n",
              "      <td>Y=0</td>\n",
              "      <td>0.250000</td>\n",
              "      <td>0.250000</td>\n",
              "    </tr>\n",
              "    <tr>\n",
              "      <td>Y=1</td>\n",
              "      <td>0.166667</td>\n",
              "      <td>0.333333</td>\n",
              "    </tr>\n",
              "  </tbody>\n",
              "</table>\n",
              "</div>"
            ],
            "text/plain": [
              "          X=0       X=1\n",
              "Y=0  0.250000  0.250000\n",
              "Y=1  0.166667  0.333333"
            ]
          },
          "metadata": {
            "tags": []
          },
          "execution_count": 360
        }
      ]
    },
    {
      "cell_type": "code",
      "metadata": {
        "id": "NQbaRmdIOx1g",
        "colab_type": "code",
        "colab": {},
        "outputId": "c583bd7f-326e-41d4-b510-84e9bbbf4dda"
      },
      "source": [
        "print('a) prob X=1: {}'.format(df['X=1'].sum()))\n",
        "print('b) prob X=1|Y=1: {}'.format(df.loc['Y=1', 'X=1']))\n",
        "mean_x = df['X=1'].sum()\n",
        "var_x = df['X=0'].sum()*(0-mean_x)**2 + df['X=1'].sum()*(1-mean_x)**2\n",
        "print('c) variance of X: {}'.format(var_x))\n",
        "mean_x_cond = df.loc['Y=1','X=1']/df.sum(axis=1)['Y=1']\n",
        "var_x_cond = df.loc['Y=1','X=0']/df.sum(axis=1)['Y=1']*(0-mean_x_cond)**2 + df.loc['Y=1','X=1']/df.sum(axis=1)['Y=1']*(1-mean_x_cond)**2\n",
        "print('d) variance of X|Y=1: {}'.format(var_x_cond))\n",
        "e_first_term = e_second_term = df.loc['Y=1','X=1']/df.sum(axis=1)['Y=1']\n",
        "e_third_term = 1\n",
        "print('e) {}'.format(e_first_term+e_second_term+e_third_term))"
      ],
      "execution_count": null,
      "outputs": [
        {
          "output_type": "stream",
          "text": [
            "a) prob X=1: 0.5833333333333333\n",
            "b) prob X=1|Y=1: 0.3333333333333333\n",
            "c) variance of X: 0.24305555555555552\n",
            "d) variance of X|Y=1: 0.2222222222222222\n",
            "e) 2.333333333333333\n"
          ],
          "name": "stdout"
        }
      ]
    },
    {
      "cell_type": "markdown",
      "metadata": {
        "id": "FDE5WfcEOx1h",
        "colab_type": "text"
      },
      "source": [
        "## Problem 2"
      ]
    },
    {
      "cell_type": "code",
      "metadata": {
        "id": "SiFWZR68Ox1i",
        "colab_type": "code",
        "colab": {}
      },
      "source": [
        ""
      ],
      "execution_count": null,
      "outputs": []
    },
    {
      "cell_type": "markdown",
      "metadata": {
        "id": "w76LpF4gOx1j",
        "colab_type": "text"
      },
      "source": [
        "## Problem 3"
      ]
    },
    {
      "cell_type": "code",
      "metadata": {
        "id": "2to1-EBLOx1j",
        "colab_type": "code",
        "colab": {},
        "outputId": "09823e28-1c54-4b5d-a557-9067ef51bc3c"
      },
      "source": [
        "print('tool: the normal approximation to binomial')\n",
        "n = 100\n",
        "p = 2/3.0\n",
        "z = (50+0.5-n*p)/(np.sqrt(n*p*(1-p)))\n",
        "import scipy.stats as st\n",
        "print('prob of getting 50 or fewer heads: {}'.format(st.norm.cdf(z)))"
      ],
      "execution_count": null,
      "outputs": [
        {
          "output_type": "stream",
          "text": [
            "tool: the normal approximation to binomial\n",
            "prob of getting 50 or fewer heads: 0.00030238299493064023\n"
          ],
          "name": "stdout"
        }
      ]
    },
    {
      "cell_type": "code",
      "metadata": {
        "id": "6-Vlnh2_Ox1k",
        "colab_type": "code",
        "colab": {},
        "outputId": "50be7cfb-c3a3-45b1-afa7-431fcd50b374"
      },
      "source": [
        "for i in range(10000):\n",
        "    x=np.random.binomial(1,2/3.0,100)\n",
        "    if x.sum() < 50:\n",
        "        print('less than 50')"
      ],
      "execution_count": null,
      "outputs": [
        {
          "output_type": "stream",
          "text": [
            "less than 50\n",
            "less than 50\n",
            "less than 50\n"
          ],
          "name": "stdout"
        }
      ]
    },
    {
      "cell_type": "code",
      "metadata": {
        "id": "PAfxjT9ROx1l",
        "colab_type": "code",
        "colab": {}
      },
      "source": [
        ""
      ],
      "execution_count": null,
      "outputs": []
    }
  ]
}